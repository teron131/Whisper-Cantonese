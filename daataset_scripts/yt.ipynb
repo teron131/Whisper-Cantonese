{
 "cells": [
  {
   "cell_type": "code",
   "execution_count": 8,
   "metadata": {},
   "outputs": [
    {
     "data": {
      "text/plain": [
       "691.23483"
      ]
     },
     "execution_count": 8,
     "metadata": {},
     "output_type": "execute_result"
    }
   ],
   "source": [
    "from pathlib import Path\n",
    "from typing import Optional\n",
    "import subprocess\n",
    "\n",
    "\n",
    "def get_audio_duration(audio_file: Path) -> Optional[float]:\n",
    "    \"\"\"Get the full audio file duration in seconds, or None if ffprobe fails.\"\"\"\n",
    "    try:\n",
    "        command = [\"ffprobe\", \"-v\", \"error\", \"-show_entries\", \"format=duration\", \"-of\", \"default=noprint_wrappers=1:nokey=1\", str(audio_file)]\n",
    "        proc = subprocess.run(command, capture_output=True, text=True, check=True)\n",
    "        return float(proc.stdout.strip())\n",
    "    except Exception:\n",
    "        return None\n",
    "\n",
    "\n",
    "get_audio_duration(Path(\"../data/bboblackboxoffice/_hK7EpWRc98.m4a\"))"
   ]
  },
  {
   "cell_type": "code",
   "execution_count": 1,
   "metadata": {},
   "outputs": [],
   "source": [
    "import pysrt\n",
    "\n",
    "subs = pysrt.open(\"../data/bboblackboxoffice/_hK7EpWRc98.srt\")"
   ]
  },
  {
   "cell_type": "code",
   "execution_count": 4,
   "metadata": {},
   "outputs": [
    {
     "data": {
      "text/plain": [
       "<pysrt.srtitem.SubRipItem at 0x7fe528b66b70>"
      ]
     },
     "execution_count": 4,
     "metadata": {},
     "output_type": "execute_result"
    }
   ],
   "source": [
    "subs[0]"
   ]
  },
  {
   "cell_type": "code",
   "execution_count": 5,
   "metadata": {},
   "outputs": [],
   "source": [
    "from datetime import time\n",
    "\n",
    "from pysrt import SubRipTime\n",
    "\n",
    "\n",
    "def _subtime_to_seconds(sub: SubRipTime) -> float:\n",
    "    \"\"\"Convert a datetime.time object to seconds.\"\"\"\n",
    "    t: time = sub.to_time()\n",
    "    return t.hour * 3600 + t.minute * 60 + t.second + t.microsecond / 1e6\n",
    "\n",
    "\n",
    "valid = [s for s in subs if _subtime_to_seconds(s.duration) <= 30]"
   ]
  },
  {
   "cell_type": "code",
   "execution_count": 6,
   "metadata": {},
   "outputs": [
    {
     "data": {
      "text/plain": [
       "[<pysrt.srtitem.SubRipItem at 0x7fe528b66b70>,\n",
       " <pysrt.srtitem.SubRipItem at 0x7fe528b66a80>,\n",
       " <pysrt.srtitem.SubRipItem at 0x7fe528b64950>,\n",
       " <pysrt.srtitem.SubRipItem at 0x7fe528b647a0>,\n",
       " <pysrt.srtitem.SubRipItem at 0x7fe528b67ef0>,\n",
       " <pysrt.srtitem.SubRipItem at 0x7fe528b67f80>,\n",
       " <pysrt.srtitem.SubRipItem at 0x7fe528b67f20>,\n",
       " <pysrt.srtitem.SubRipItem at 0x7fe528b67fb0>,\n",
       " <pysrt.srtitem.SubRipItem at 0x7fe528b67fe0>,\n",
       " <pysrt.srtitem.SubRipItem at 0x7fe528b67ec0>,\n",
       " <pysrt.srtitem.SubRipItem at 0x7fe528b981d0>,\n",
       " <pysrt.srtitem.SubRipItem at 0x7fe528b98170>,\n",
       " <pysrt.srtitem.SubRipItem at 0x7fe528b98350>,\n",
       " <pysrt.srtitem.SubRipItem at 0x7fe528b983e0>,\n",
       " <pysrt.srtitem.SubRipItem at 0x7fe528b98500>,\n",
       " <pysrt.srtitem.SubRipItem at 0x7fe528b981a0>,\n",
       " <pysrt.srtitem.SubRipItem at 0x7fe528b98260>,\n",
       " <pysrt.srtitem.SubRipItem at 0x7fe528b98530>,\n",
       " <pysrt.srtitem.SubRipItem at 0x7fe528b98470>,\n",
       " <pysrt.srtitem.SubRipItem at 0x7fe528b985c0>,\n",
       " <pysrt.srtitem.SubRipItem at 0x7fe528b98740>,\n",
       " <pysrt.srtitem.SubRipItem at 0x7fe528b985f0>,\n",
       " <pysrt.srtitem.SubRipItem at 0x7fe528b98a10>,\n",
       " <pysrt.srtitem.SubRipItem at 0x7fe528b98710>,\n",
       " <pysrt.srtitem.SubRipItem at 0x7fe528b988f0>,\n",
       " <pysrt.srtitem.SubRipItem at 0x7fe528b98980>,\n",
       " <pysrt.srtitem.SubRipItem at 0x7fe528b98c80>,\n",
       " <pysrt.srtitem.SubRipItem at 0x7fe528b98b30>,\n",
       " <pysrt.srtitem.SubRipItem at 0x7fe528b98680>,\n",
       " <pysrt.srtitem.SubRipItem at 0x7fe528b98c50>,\n",
       " <pysrt.srtitem.SubRipItem at 0x7fe528b98d70>,\n",
       " <pysrt.srtitem.SubRipItem at 0x7fe528b98b00>,\n",
       " <pysrt.srtitem.SubRipItem at 0x7fe528b98e60>,\n",
       " <pysrt.srtitem.SubRipItem at 0x7fe528b98e00>,\n",
       " <pysrt.srtitem.SubRipItem at 0x7fe528b98bc0>,\n",
       " <pysrt.srtitem.SubRipItem at 0x7fe528b98e30>,\n",
       " <pysrt.srtitem.SubRipItem at 0x7fe528b99220>,\n",
       " <pysrt.srtitem.SubRipItem at 0x7fe528b990d0>,\n",
       " <pysrt.srtitem.SubRipItem at 0x7fe528b991f0>,\n",
       " <pysrt.srtitem.SubRipItem at 0x7fe528b99040>,\n",
       " <pysrt.srtitem.SubRipItem at 0x7fe528b993d0>,\n",
       " <pysrt.srtitem.SubRipItem at 0x7fe528b99310>,\n",
       " <pysrt.srtitem.SubRipItem at 0x7fe528b993a0>,\n",
       " <pysrt.srtitem.SubRipItem at 0x7fe528b99160>,\n",
       " <pysrt.srtitem.SubRipItem at 0x7fe528b994c0>,\n",
       " <pysrt.srtitem.SubRipItem at 0x7fe528b99580>,\n",
       " <pysrt.srtitem.SubRipItem at 0x7fe528b994f0>,\n",
       " <pysrt.srtitem.SubRipItem at 0x7fe528b99670>,\n",
       " <pysrt.srtitem.SubRipItem at 0x7fe528b99700>,\n",
       " <pysrt.srtitem.SubRipItem at 0x7fe528b998e0>,\n",
       " <pysrt.srtitem.SubRipItem at 0x7fe528b99790>,\n",
       " <pysrt.srtitem.SubRipItem at 0x7fe528b98fb0>,\n",
       " <pysrt.srtitem.SubRipItem at 0x7fe528b997c0>,\n",
       " <pysrt.srtitem.SubRipItem at 0x7fe528b99850>,\n",
       " <pysrt.srtitem.SubRipItem at 0x7fe528b999d0>,\n",
       " <pysrt.srtitem.SubRipItem at 0x7fe528b99a60>,\n",
       " <pysrt.srtitem.SubRipItem at 0x7fe528b99b80>,\n",
       " <pysrt.srtitem.SubRipItem at 0x7fe528b99c10>,\n",
       " <pysrt.srtitem.SubRipItem at 0x7fe528b99d30>,\n",
       " <pysrt.srtitem.SubRipItem at 0x7fe528b99d60>,\n",
       " <pysrt.srtitem.SubRipItem at 0x7fe528b99ca0>,\n",
       " <pysrt.srtitem.SubRipItem at 0x7fe528b99e50>,\n",
       " <pysrt.srtitem.SubRipItem at 0x7fe528b9a030>,\n",
       " <pysrt.srtitem.SubRipItem at 0x7fe528b99ee0>,\n",
       " <pysrt.srtitem.SubRipItem at 0x7fe528b99f70>,\n",
       " <pysrt.srtitem.SubRipItem at 0x7fe528b9a000>,\n",
       " <pysrt.srtitem.SubRipItem at 0x7fe528b9a120>,\n",
       " <pysrt.srtitem.SubRipItem at 0x7fe528b9a300>,\n",
       " <pysrt.srtitem.SubRipItem at 0x7fe528b9a1b0>,\n",
       " <pysrt.srtitem.SubRipItem at 0x7fe528b9a240>,\n",
       " <pysrt.srtitem.SubRipItem at 0x7fe528b99af0>,\n",
       " <pysrt.srtitem.SubRipItem at 0x7fe528b9a540>,\n",
       " <pysrt.srtitem.SubRipItem at 0x7fe528b9a3f0>,\n",
       " <pysrt.srtitem.SubRipItem at 0x7fe528b9a480>,\n",
       " <pysrt.srtitem.SubRipItem at 0x7fe528b9a510>,\n",
       " <pysrt.srtitem.SubRipItem at 0x7fe528b9a2d0>,\n",
       " <pysrt.srtitem.SubRipItem at 0x7fe528b9a630>,\n",
       " <pysrt.srtitem.SubRipItem at 0x7fe528b9a750>,\n",
       " <pysrt.srtitem.SubRipItem at 0x7fe528b9a930>,\n",
       " <pysrt.srtitem.SubRipItem at 0x7fe528b9a7e0>,\n",
       " <pysrt.srtitem.SubRipItem at 0x7fe528b9a900>,\n",
       " <pysrt.srtitem.SubRipItem at 0x7fe528b9aae0>,\n",
       " <pysrt.srtitem.SubRipItem at 0x7fe528b9a6c0>,\n",
       " <pysrt.srtitem.SubRipItem at 0x7fe528b9aa20>,\n",
       " <pysrt.srtitem.SubRipItem at 0x7fe528b9a870>,\n",
       " <pysrt.srtitem.SubRipItem at 0x7fe528b9ad20>,\n",
       " <pysrt.srtitem.SubRipItem at 0x7fe528b9acf0>,\n",
       " <pysrt.srtitem.SubRipItem at 0x7fe528b9abd0>,\n",
       " <pysrt.srtitem.SubRipItem at 0x7fe528b9aed0>,\n",
       " <pysrt.srtitem.SubRipItem at 0x7fe528b9ae10>,\n",
       " <pysrt.srtitem.SubRipItem at 0x7fe528b9aff0>,\n",
       " <pysrt.srtitem.SubRipItem at 0x7fe528b9aea0>,\n",
       " <pysrt.srtitem.SubRipItem at 0x7fe528b9afc0>,\n",
       " <pysrt.srtitem.SubRipItem at 0x7fe528b9b1a0>,\n",
       " <pysrt.srtitem.SubRipItem at 0x7fe528b9aab0>,\n",
       " <pysrt.srtitem.SubRipItem at 0x7fe528b9b0e0>,\n",
       " <pysrt.srtitem.SubRipItem at 0x7fe528b9ac60>,\n",
       " <pysrt.srtitem.SubRipItem at 0x7fe528b9b3e0>,\n",
       " <pysrt.srtitem.SubRipItem at 0x7fe528b9b290>,\n",
       " <pysrt.srtitem.SubRipItem at 0x7fe528b9b3b0>,\n",
       " <pysrt.srtitem.SubRipItem at 0x7fe528b9b590>,\n",
       " <pysrt.srtitem.SubRipItem at 0x7fe528b9b170>,\n",
       " <pysrt.srtitem.SubRipItem at 0x7fe528b9b4d0>,\n",
       " <pysrt.srtitem.SubRipItem at 0x7fe528b9b560>,\n",
       " <pysrt.srtitem.SubRipItem at 0x7fe528b9b320>,\n",
       " <pysrt.srtitem.SubRipItem at 0x7fe528b9b680>,\n",
       " <pysrt.srtitem.SubRipItem at 0x7fe528b9b7a0>,\n",
       " <pysrt.srtitem.SubRipItem at 0x7fe528b9b980>,\n",
       " <pysrt.srtitem.SubRipItem at 0x7fe528b9b830>,\n",
       " <pysrt.srtitem.SubRipItem at 0x7fe528b9b8c0>,\n",
       " <pysrt.srtitem.SubRipItem at 0x7fe528b9b950>,\n",
       " <pysrt.srtitem.SubRipItem at 0x7fe528b9b710>,\n",
       " <pysrt.srtitem.SubRipItem at 0x7fe528b9ba70>,\n",
       " <pysrt.srtitem.SubRipItem at 0x7fe528b9bb00>,\n",
       " <pysrt.srtitem.SubRipItem at 0x7fe528b9be00>,\n",
       " <pysrt.srtitem.SubRipItem at 0x7fe528b9bcb0>,\n",
       " <pysrt.srtitem.SubRipItem at 0x7fe528b9bc20>,\n",
       " <pysrt.srtitem.SubRipItem at 0x7fe528b9bdd0>,\n",
       " <pysrt.srtitem.SubRipItem at 0x7fe528b9bfb0>,\n",
       " <pysrt.srtitem.SubRipItem at 0x7fe528b9bb90>,\n",
       " <pysrt.srtitem.SubRipItem at 0x7fe528b9bd40>,\n",
       " <pysrt.srtitem.SubRipItem at 0x7fe528b9bf80>,\n",
       " <pysrt.srtitem.SubRipItem at 0x7fe528b9bef0>,\n",
       " <pysrt.srtitem.SubRipItem at 0x7fe528ba8200>,\n",
       " <pysrt.srtitem.SubRipItem at 0x7fe528ba80e0>,\n",
       " <pysrt.srtitem.SubRipItem at 0x7fe528ba8290>,\n",
       " <pysrt.srtitem.SubRipItem at 0x7fe528ba8170>,\n",
       " <pysrt.srtitem.SubRipItem at 0x7fe528ba8320>,\n",
       " <pysrt.srtitem.SubRipItem at 0x7fe528ba83b0>,\n",
       " <pysrt.srtitem.SubRipItem at 0x7fe528ba8440>,\n",
       " <pysrt.srtitem.SubRipItem at 0x7fe528ba8560>,\n",
       " <pysrt.srtitem.SubRipItem at 0x7fe528ba85f0>,\n",
       " <pysrt.srtitem.SubRipItem at 0x7fe528ba8830>,\n",
       " <pysrt.srtitem.SubRipItem at 0x7fe528ba88c0>,\n",
       " <pysrt.srtitem.SubRipItem at 0x7fe528ba84d0>,\n",
       " <pysrt.srtitem.SubRipItem at 0x7fe528ba89b0>,\n",
       " <pysrt.srtitem.SubRipItem at 0x7fe528ba8ad0>,\n",
       " <pysrt.srtitem.SubRipItem at 0x7fe528ba87a0>,\n",
       " <pysrt.srtitem.SubRipItem at 0x7fe528ba88f0>,\n",
       " <pysrt.srtitem.SubRipItem at 0x7fe528ba8aa0>,\n",
       " <pysrt.srtitem.SubRipItem at 0x7fe528ba8bc0>,\n",
       " <pysrt.srtitem.SubRipItem at 0x7fe528ba8cb0>,\n",
       " <pysrt.srtitem.SubRipItem at 0x7fe528ba8da0>,\n",
       " <pysrt.srtitem.SubRipItem at 0x7fe528ba8c50>,\n",
       " <pysrt.srtitem.SubRipItem at 0x7fe528ba8c80>,\n",
       " <pysrt.srtitem.SubRipItem at 0x7fe528ba8680>,\n",
       " <pysrt.srtitem.SubRipItem at 0x7fe528ba8e90>,\n",
       " <pysrt.srtitem.SubRipItem at 0x7fe528ba8f50>,\n",
       " <pysrt.srtitem.SubRipItem at 0x7fe528ba8920>,\n",
       " <pysrt.srtitem.SubRipItem at 0x7fe528ba9190>,\n",
       " <pysrt.srtitem.SubRipItem at 0x7fe528ba9040>,\n",
       " <pysrt.srtitem.SubRipItem at 0x7fe528ba90d0>,\n",
       " <pysrt.srtitem.SubRipItem at 0x7fe528ba9160>,\n",
       " <pysrt.srtitem.SubRipItem at 0x7fe528ba8f20>,\n",
       " <pysrt.srtitem.SubRipItem at 0x7fe528ba9310>,\n",
       " <pysrt.srtitem.SubRipItem at 0x7fe528ba94f0>,\n",
       " <pysrt.srtitem.SubRipItem at 0x7fe528ba93a0>,\n",
       " <pysrt.srtitem.SubRipItem at 0x7fe528ba9430>,\n",
       " <pysrt.srtitem.SubRipItem at 0x7fe528ba94c0>,\n",
       " <pysrt.srtitem.SubRipItem at 0x7fe528ba95e0>,\n",
       " <pysrt.srtitem.SubRipItem at 0x7fe528ba9670>,\n",
       " <pysrt.srtitem.SubRipItem at 0x7fe528ba9700>,\n",
       " <pysrt.srtitem.SubRipItem at 0x7fe528ba9280>,\n",
       " <pysrt.srtitem.SubRipItem at 0x7fe528ba9820>,\n",
       " <pysrt.srtitem.SubRipItem at 0x7fe528ba98b0>,\n",
       " <pysrt.srtitem.SubRipItem at 0x7fe528ba9a90>,\n",
       " <pysrt.srtitem.SubRipItem at 0x7fe528ba9940>,\n",
       " <pysrt.srtitem.SubRipItem at 0x7fe528ba99d0>,\n",
       " <pysrt.srtitem.SubRipItem at 0x7fe528ba9790>,\n",
       " <pysrt.srtitem.SubRipItem at 0x7fe528ba9a00>,\n",
       " <pysrt.srtitem.SubRipItem at 0x7fe528ba9dc0>,\n",
       " <pysrt.srtitem.SubRipItem at 0x7fe528ba9c10>,\n",
       " <pysrt.srtitem.SubRipItem at 0x7fe528ba9ca0>,\n",
       " <pysrt.srtitem.SubRipItem at 0x7fe528ba9d30>,\n",
       " <pysrt.srtitem.SubRipItem at 0x7fe528ba9eb0>,\n",
       " <pysrt.srtitem.SubRipItem at 0x7fe528ba9ee0>,\n",
       " <pysrt.srtitem.SubRipItem at 0x7fe528ba9f70>,\n",
       " <pysrt.srtitem.SubRipItem at 0x7fe528baa0c0>,\n",
       " <pysrt.srtitem.SubRipItem at 0x7fe528ba9b80>,\n",
       " <pysrt.srtitem.SubRipItem at 0x7fe528baa000>,\n",
       " <pysrt.srtitem.SubRipItem at 0x7fe528baa1b0>,\n",
       " <pysrt.srtitem.SubRipItem at 0x7fe528baa2d0>,\n",
       " <pysrt.srtitem.SubRipItem at 0x7fe528baa3c0>,\n",
       " <pysrt.srtitem.SubRipItem at 0x7fe528baa4b0>,\n",
       " <pysrt.srtitem.SubRipItem at 0x7fe528baa090>,\n",
       " <pysrt.srtitem.SubRipItem at 0x7fe528baa300>,\n",
       " <pysrt.srtitem.SubRipItem at 0x7fe528baa390>,\n",
       " <pysrt.srtitem.SubRipItem at 0x7fe528baa5a0>,\n",
       " <pysrt.srtitem.SubRipItem at 0x7fe528baa780>,\n",
       " <pysrt.srtitem.SubRipItem at 0x7fe528baa630>,\n",
       " <pysrt.srtitem.SubRipItem at 0x7fe528baa6c0>,\n",
       " <pysrt.srtitem.SubRipItem at 0x7fe528baa750>,\n",
       " <pysrt.srtitem.SubRipItem at 0x7fe528baa240>,\n",
       " <pysrt.srtitem.SubRipItem at 0x7fe528baa900>,\n",
       " <pysrt.srtitem.SubRipItem at 0x7fe528baaae0>,\n",
       " <pysrt.srtitem.SubRipItem at 0x7fe528baa990>,\n",
       " <pysrt.srtitem.SubRipItem at 0x7fe528baaab0>,\n",
       " <pysrt.srtitem.SubRipItem at 0x7fe528baac90>,\n",
       " <pysrt.srtitem.SubRipItem at 0x7fe528baa870>,\n",
       " <pysrt.srtitem.SubRipItem at 0x7fe528baac60>,\n",
       " <pysrt.srtitem.SubRipItem at 0x7fe528baae40>,\n",
       " <pysrt.srtitem.SubRipItem at 0x7fe528baaa20>,\n",
       " <pysrt.srtitem.SubRipItem at 0x7fe528baad80>,\n",
       " <pysrt.srtitem.SubRipItem at 0x7fe528baae10>,\n",
       " <pysrt.srtitem.SubRipItem at 0x7fe528baaf30>,\n",
       " <pysrt.srtitem.SubRipItem at 0x7fe528bab110>,\n",
       " <pysrt.srtitem.SubRipItem at 0x7fe528bab050>,\n",
       " <pysrt.srtitem.SubRipItem at 0x7fe528baafc0>,\n",
       " <pysrt.srtitem.SubRipItem at 0x7fe528bab0e0>,\n",
       " <pysrt.srtitem.SubRipItem at 0x7fe528baabd0>,\n",
       " <pysrt.srtitem.SubRipItem at 0x7fe528bab290>,\n",
       " <pysrt.srtitem.SubRipItem at 0x7fe528bab470>,\n",
       " <pysrt.srtitem.SubRipItem at 0x7fe528bab320>,\n",
       " <pysrt.srtitem.SubRipItem at 0x7fe528bab3b0>,\n",
       " <pysrt.srtitem.SubRipItem at 0x7fe528bab200>,\n",
       " <pysrt.srtitem.SubRipItem at 0x7fe528bab440>,\n",
       " <pysrt.srtitem.SubRipItem at 0x7fe528bab560>,\n",
       " <pysrt.srtitem.SubRipItem at 0x7fe528bab680>,\n",
       " <pysrt.srtitem.SubRipItem at 0x7fe528bab860>,\n",
       " <pysrt.srtitem.SubRipItem at 0x7fe528bab710>,\n",
       " <pysrt.srtitem.SubRipItem at 0x7fe528bab830>,\n",
       " <pysrt.srtitem.SubRipItem at 0x7fe528bab5f0>,\n",
       " <pysrt.srtitem.SubRipItem at 0x7fe528baba10>,\n",
       " <pysrt.srtitem.SubRipItem at 0x7fe528bab950>,\n",
       " <pysrt.srtitem.SubRipItem at 0x7fe528bab7a0>,\n",
       " <pysrt.srtitem.SubRipItem at 0x7fe528babc50>,\n",
       " <pysrt.srtitem.SubRipItem at 0x7fe528babb90>,\n",
       " <pysrt.srtitem.SubRipItem at 0x7fe528babe60>,\n",
       " <pysrt.srtitem.SubRipItem at 0x7fe528babef0>,\n",
       " <pysrt.srtitem.SubRipItem at 0x7fe528babc20>,\n",
       " <pysrt.srtitem.SubRipItem at 0x7fe528babb00>,\n",
       " <pysrt.srtitem.SubRipItem at 0x7fe528babf20>,\n",
       " <pysrt.srtitem.SubRipItem at 0x7fe528babf50>,\n",
       " <pysrt.srtitem.SubRipItem at 0x7fe528babdd0>,\n",
       " <pysrt.srtitem.SubRipItem at 0x7fe528babfe0>,\n",
       " <pysrt.srtitem.SubRipItem at 0x7fe528bab9e0>,\n",
       " <pysrt.srtitem.SubRipItem at 0x7fe528bb4050>,\n",
       " <pysrt.srtitem.SubRipItem at 0x7fe528bb4380>,\n",
       " <pysrt.srtitem.SubRipItem at 0x7fe528bb42c0>,\n",
       " <pysrt.srtitem.SubRipItem at 0x7fe528bb4140>,\n",
       " <pysrt.srtitem.SubRipItem at 0x7fe528bb4350>,\n",
       " <pysrt.srtitem.SubRipItem at 0x7fe528bb4230>,\n",
       " <pysrt.srtitem.SubRipItem at 0x7fe528bb4470>,\n",
       " <pysrt.srtitem.SubRipItem at 0x7fe528bb4500>,\n",
       " <pysrt.srtitem.SubRipItem at 0x7fe528bb4590>,\n",
       " <pysrt.srtitem.SubRipItem at 0x7fe528bb4620>,\n",
       " <pysrt.srtitem.SubRipItem at 0x7fe528bb4740>,\n",
       " <pysrt.srtitem.SubRipItem at 0x7fe528bb4920>,\n",
       " <pysrt.srtitem.SubRipItem at 0x7fe528bb47d0>,\n",
       " <pysrt.srtitem.SubRipItem at 0x7fe528bb4860>,\n",
       " <pysrt.srtitem.SubRipItem at 0x7fe528bb48f0>,\n",
       " <pysrt.srtitem.SubRipItem at 0x7fe528bb46b0>,\n",
       " <pysrt.srtitem.SubRipItem at 0x7fe528bb4a10>,\n",
       " <pysrt.srtitem.SubRipItem at 0x7fe528bb4b30>,\n",
       " <pysrt.srtitem.SubRipItem at 0x7fe528bb4d10>,\n",
       " <pysrt.srtitem.SubRipItem at 0x7fe528bb4bc0>,\n",
       " <pysrt.srtitem.SubRipItem at 0x7fe528bb4ce0>,\n",
       " <pysrt.srtitem.SubRipItem at 0x7fe528bb4ec0>,\n",
       " <pysrt.srtitem.SubRipItem at 0x7fe528bb4aa0>,\n",
       " <pysrt.srtitem.SubRipItem at 0x7fe528bb4e00>,\n",
       " <pysrt.srtitem.SubRipItem at 0x7fe528bb4e90>,\n",
       " <pysrt.srtitem.SubRipItem at 0x7fe528bb5040>,\n",
       " <pysrt.srtitem.SubRipItem at 0x7fe528bb4c50>,\n",
       " <pysrt.srtitem.SubRipItem at 0x7fe528bb5220>,\n",
       " <pysrt.srtitem.SubRipItem at 0x7fe528bb5160>,\n",
       " <pysrt.srtitem.SubRipItem at 0x7fe528bb53d0>,\n",
       " <pysrt.srtitem.SubRipItem at 0x7fe528bb4fb0>,\n",
       " <pysrt.srtitem.SubRipItem at 0x7fe528bb50d0>,\n",
       " <pysrt.srtitem.SubRipItem at 0x7fe528bb5580>]"
      ]
     },
     "execution_count": 6,
     "metadata": {},
     "output_type": "execute_result"
    }
   ],
   "source": [
    "valid"
   ]
  },
  {
   "cell_type": "code",
   "execution_count": 6,
   "metadata": {},
   "outputs": [],
   "source": [
    "from pytubefix import Caption, Channel, YouTube\n",
    "\n",
    "yt = Channel(\"https://www.youtube.com/@veritasium\")\n",
    "yt = YouTube(\"https://www.youtube.com/watch?v=TT7ZUJGPqos\")"
   ]
  },
  {
   "cell_type": "code",
   "execution_count": 7,
   "metadata": {},
   "outputs": [
    {
     "data": {
      "text/plain": [
       "{'a.en': <Caption lang=\"English (auto-generated)\" code=\"a.en\">, 'en.j3PyPqV-e1s': <Caption lang=\"English - CC (English)\" code=\"en.j3PyPqV-e1s\">}"
      ]
     },
     "execution_count": 7,
     "metadata": {},
     "output_type": "execute_result"
    }
   ],
   "source": [
    "yt.captions"
   ]
  },
  {
   "cell_type": "markdown",
   "metadata": {},
   "source": [
    "en.j3PyPqV-e1s"
   ]
  },
  {
   "cell_type": "code",
   "execution_count": 2,
   "metadata": {},
   "outputs": [
    {
     "data": {
      "text/plain": [
       "<pytubefix.__main__.YouTube object: videoId=lcjdwSY2AzM>"
      ]
     },
     "execution_count": 2,
     "metadata": {},
     "output_type": "execute_result"
    }
   ],
   "source": [
    "v = yt.videos[0]\n",
    "v"
   ]
  },
  {
   "cell_type": "code",
   "execution_count": 3,
   "metadata": {},
   "outputs": [
    {
     "data": {
      "text/plain": [
       "'/home/teron/projects/Whisper-Cantonese/YouTube/test/The Biggest Misconception in Physics.m4a'"
      ]
     },
     "execution_count": 3,
     "metadata": {},
     "output_type": "execute_result"
    }
   ],
   "source": [
    "v.streams.get_audio_only().download(output_path=str(\"test\"))"
   ]
  }
 ],
 "metadata": {
  "kernelspec": {
   "display_name": "base",
   "language": "python",
   "name": "python3"
  },
  "language_info": {
   "codemirror_mode": {
    "name": "ipython",
    "version": 3
   },
   "file_extension": ".py",
   "mimetype": "text/x-python",
   "name": "python",
   "nbconvert_exporter": "python",
   "pygments_lexer": "ipython3",
   "version": "3.12.2"
  }
 },
 "nbformat": 4,
 "nbformat_minor": 2
}
